{
 "cells": [
  {
   "cell_type": "markdown",
   "metadata": {
    "deletable": false,
    "editable": false
   },
   "source": [
    "# Data Visualization with Modern Data Science\n",
    "\n",
    "> Assignment 2\n",
    "\n",
    "Yao-Jen Kuo <yaojenkuo@ntu.edu.tw> from [DATAINPOINT](https://www.datainpoint.com)"
   ]
  },
  {
   "cell_type": "markdown",
   "metadata": {
    "deletable": false,
    "editable": false
   },
   "source": [
    "## Instructions\n",
    "\n",
    "- The assignment will be disconnected if idling over 10 minutes, we can reactivate a new session by clicking the assignment link again.\n",
    "- If you accidentally delete some of the cells, just re-click the assignment link again for a whole new session.\n",
    "- Write down your solution between comments `-- BEGIN SOLUTION` and `-- END SOLUTION`.\n",
    "- It is highly recommended that you test your solution in SQLiteStudio then paste into Jupyter Notebook.\n",
    "- Running tests to see if your solutions are right:\n",
    "    - File -> Save Notebook to save `exercises.ipynb`.\n",
    "    - File -> New -> Terminal to open a Terminal.\n",
    "    - Use command `python test_runner.py` to run test.\n",
    "- When you are ready to submit, click File -> Export Notebook As -> Executable Script.\n",
    "- Rename the exported Python script with your student ID(e.g. `b01234567.py`) and upload to the Assignment session on NTU COOL."
   ]
  },
  {
   "cell_type": "markdown",
   "metadata": {},
   "source": [
    "## 01. Write a SQL statement that is able to select all the columns and records from `daily_report` as specified.\n",
    "\n",
    "- Expected inputs：a SQL statement.\n",
    "- Expected outputs：a (4010, 4) result.\n",
    "\n",
    "```\n",
    "              Combined_Key          Last_Update  Confirmed  Deaths\n",
    "0              Afghanistan  2022-03-01 04:21:09     173659    7598\n",
    "1                  Albania  2022-03-01 04:21:09     271563    3469\n",
    "2                  Algeria  2022-03-01 04:21:09     264936    6835\n",
    "3                  Andorra  2022-03-01 04:21:09      37999     151\n",
    "4                   Angola  2022-03-01 04:21:09      98741    1900\n",
    "...                    ...                  ...        ...     ...\n",
    "4005    West Bank and Gaza  2022-03-01 04:21:09     645947    5501\n",
    "4006  Winter Olympics 2022  2022-03-01 04:21:09        521       0\n",
    "4007                 Yemen  2022-03-01 04:21:09      11771    2135\n",
    "4008                Zambia  2022-03-01 04:21:09     312750    3952\n",
    "4009              Zimbabwe  2022-03-01 04:21:09     236380    5395\n",
    "\n",
    "[4010 rows x 4 columns]\n",
    "```"
   ]
  },
  {
   "cell_type": "code",
   "execution_count": 2,
   "metadata": {},
   "outputs": [],
   "source": [
    "select_all_from_daily_report =\\\n",
    "\"\"\"\n",
    "-- BEGIN SOLUTION\n",
    "SELECT *\n",
    "  FROM daily_report;\n",
    "-- END SOLUTION\n",
    "\"\"\""
   ]
  },
  {
   "cell_type": "markdown",
   "metadata": {},
   "source": [
    "## 02. Write a SQL statement that is able to select four variables from `time_series` as specified.\n",
    "\n",
    "- Expected inputs：a SQL statement.\n",
    "- Expected outputs：a (152262, 4) result.\n",
    "\n",
    "```\n",
    "              Date        Country_Region  Confirmed  Daily_Cases\n",
    "0       2020-01-22           Afghanistan          0            0\n",
    "1       2020-01-22               Albania          0            0\n",
    "2       2020-01-22               Algeria          0            0\n",
    "3       2020-01-22               Andorra          0            0\n",
    "4       2020-01-22                Angola          0            0\n",
    "...            ...                   ...        ...          ...\n",
    "152257  2022-02-28    West Bank and Gaza     645947         5733\n",
    "152258  2022-02-28  Winter Olympics 2022        521            3\n",
    "152259  2022-02-28                 Yemen      11771            2\n",
    "152260  2022-02-28                Zambia     312750           43\n",
    "152261  2022-02-28              Zimbabwe     236380          577\n",
    "\n",
    "[152262 rows x 4 columns]\n",
    "```"
   ]
  },
  {
   "cell_type": "code",
   "execution_count": 3,
   "metadata": {},
   "outputs": [],
   "source": [
    "select_variables_from_time_series =\\\n",
    "\"\"\"\n",
    "-- BEGIN SOLUTION\n",
    "SELECT Date,\n",
    "       Country_Region,\n",
    "       Confirmed,\n",
    "       Daily_Cases\n",
    "  FROM time_series;\n",
    "-- END SOLUTION\n",
    "\"\"\""
   ]
  },
  {
   "cell_type": "markdown",
   "metadata": {},
   "source": [
    "## 03. Write a SQL statement that is able to find the records of Taiwan in `time_series`.\n",
    "\n",
    "- Expected inputs：a SQL statement.\n",
    "- Expected outputs：a (769, 6) result.\n",
    "\n",
    "```\n",
    "           Date Country_Region  Confirmed  Deaths  Daily_Cases  Daily_Deaths\n",
    "0    2020-01-22         Taiwan          1       0            1             0\n",
    "1    2020-01-23         Taiwan          1       0            0             0\n",
    "2    2020-01-24         Taiwan          3       0            2             0\n",
    "3    2020-01-25         Taiwan          3       0            0             0\n",
    "4    2020-01-26         Taiwan          4       0            1             0\n",
    "..          ...            ...        ...     ...          ...           ...\n",
    "764  2022-02-24         Taiwan      20236     852           80             0\n",
    "765  2022-02-25         Taiwan      20304     853           68             1\n",
    "766  2022-02-26         Taiwan      20373     853           69             0\n",
    "767  2022-02-27         Taiwan      20433     853           60             0\n",
    "768  2022-02-28         Taiwan      20489     853           56             0\n",
    "\n",
    "[769 rows x 6 columns]\n",
    "```"
   ]
  },
  {
   "cell_type": "code",
   "execution_count": 4,
   "metadata": {},
   "outputs": [],
   "source": [
    "find_taiwan_from_time_series =\\\n",
    "\"\"\"\n",
    "-- BEGIN SOLUTION\n",
    "SELECT *\n",
    "  FROM time_series\n",
    " WHERE Country_Region = 'Taiwan';\n",
    "-- END SOLUTION\n",
    "\"\"\""
   ]
  },
  {
   "cell_type": "markdown",
   "metadata": {},
   "source": [
    "## 04. Write a SQL statement that is able to find the records of Taiwan and the day of \"+0\" in `time_series` as specified.\n",
    "\n",
    "- Expected inputs：a SQL statement.\n",
    "- Expected outputs：a (173, 3) result.\n",
    "\n",
    "```\n",
    "    Country_Region        Date  Daily_Cases\n",
    "0           Taiwan  2020-01-23            0\n",
    "1           Taiwan  2020-01-25            0\n",
    "2           Taiwan  2020-01-29            0\n",
    "3           Taiwan  2020-02-01            0\n",
    "4           Taiwan  2020-02-02            0\n",
    "..             ...         ...          ...\n",
    "168         Taiwan  2021-03-17            0\n",
    "169         Taiwan  2021-03-22            0\n",
    "170         Taiwan  2021-04-07            0\n",
    "171         Taiwan  2021-04-08            0\n",
    "172         Taiwan  2021-10-18            0\n",
    "\n",
    "[173 rows x 3 columns]\n",
    "```"
   ]
  },
  {
   "cell_type": "code",
   "execution_count": 5,
   "metadata": {},
   "outputs": [],
   "source": [
    "find_taiwan_plus_zero_from_time_series =\\\n",
    "\"\"\"\n",
    "-- BEGIN SOLUTION\n",
    "SELECT Country_Region,\n",
    "       Date,\n",
    "       Daily_Cases\n",
    "  FROM time_series\n",
    " WHERE Country_Region = 'Taiwan' AND\n",
    "       Daily_Cases = 0;\n",
    "-- END SOLUTION\n",
    "\"\"\""
   ]
  },
  {
   "cell_type": "markdown",
   "metadata": {},
   "source": [
    "## 05. Write a SQL statement that is able to find the distinct `Last_Update` in `daily_report` as specified.\n",
    "\n",
    "- Expected inputs：a SQL statement.\n",
    "- Expected outputs：a (10, 1) result.\n",
    "\n",
    "```\n",
    "           Last_Update\n",
    "0  2022-03-01 04:21:09\n",
    "1  2020-12-21 13:27:30\n",
    "2  2021-11-10 23:21:44\n",
    "3  2022-02-28 23:21:00\n",
    "4  2021-04-25 23:20:49\n",
    "5  2020-08-04 02:27:56\n",
    "6  2020-08-07 22:34:20\n",
    "7  2021-01-24 23:22:19\n",
    "8  2021-10-10 23:21:42\n",
    "9  2021-07-31 23:21:38\n",
    "```"
   ]
  },
  {
   "cell_type": "code",
   "execution_count": 6,
   "metadata": {},
   "outputs": [],
   "source": [
    "find_distinct_last_update_from_daily_report =\\\n",
    "\"\"\"\n",
    "-- BEGIN SOLUTION\n",
    "SELECT DISTINCT Last_Update\n",
    "  FROM daily_report;\n",
    "-- END SOLUTION\n",
    "\"\"\""
   ]
  },
  {
   "cell_type": "markdown",
   "metadata": {},
   "source": [
    "## 06. Write a SQL statement that is able to find the distinct `Date` in `time_series` as specified.\n",
    "\n",
    "- Expected inputs：a SQL statement.\n",
    "- Expected outputs：a (769, 1) result.\n",
    "\n",
    "```\n",
    "           Date\n",
    "0    2020-01-22\n",
    "1    2020-01-23\n",
    "2    2020-01-24\n",
    "3    2020-01-25\n",
    "4    2020-01-26\n",
    "..          ...\n",
    "764  2022-02-24\n",
    "765  2022-02-25\n",
    "766  2022-02-26\n",
    "767  2022-02-27\n",
    "768  2022-02-28\n",
    "\n",
    "[769 rows x 1 columns]\n",
    "```"
   ]
  },
  {
   "cell_type": "code",
   "execution_count": 7,
   "metadata": {},
   "outputs": [],
   "source": [
    "find_distinct_date_from_time_series =\\\n",
    "\"\"\"\n",
    "-- BEGIN SOLUTION\n",
    "SELECT DISTINCT Date\n",
    "  FROM time_series;\n",
    "-- END SOLUTION\n",
    "\"\"\""
   ]
  },
  {
   "cell_type": "markdown",
   "metadata": {},
   "source": [
    "## 07. Write a SQL statement that is able to find the records of US in `daily_report` as specified.\n",
    "\n",
    "- Expected inputs：a SQL statement.\n",
    "- Expected outputs：a (3278, 3) result.\n",
    "\n",
    "```\n",
    "                 Combined_Key  Confirmed  Deaths\n",
    "0        Autauga, Alabama, US      15510     194\n",
    "1        Baldwin, Alabama, US      54978     640\n",
    "2        Barbour, Alabama, US       5445      93\n",
    "3           Bibb, Alabama, US       6375      99\n",
    "4         Blount, Alabama, US      14760     218\n",
    "...                       ...        ...     ...\n",
    "3273       Teton, Wyoming, US       9782      16\n",
    "3274       Uinta, Wyoming, US       5623      36\n",
    "3275  Unassigned, Wyoming, US          0      18\n",
    "3276    Washakie, Wyoming, US       2337      43\n",
    "3277      Weston, Wyoming, US       1548      18\n",
    "\n",
    "[3278 rows x 3 columns]\n",
    "```"
   ]
  },
  {
   "cell_type": "code",
   "execution_count": 8,
   "metadata": {},
   "outputs": [],
   "source": [
    "find_us_from_daily_report =\\\n",
    "\"\"\"\n",
    "-- BEGIN SOLUTION\n",
    "SELECT Combined_Key,\n",
    "       Confirmed,\n",
    "       Deaths\n",
    "  FROM daily_report\n",
    " WHERE Combined_Key LIKE '%, US';\n",
    "-- END SOLUTION\n",
    "\"\"\""
   ]
  },
  {
   "cell_type": "markdown",
   "metadata": {},
   "source": [
    "## 08. Write a SQL statement that is able to find the records of US in `daily_report` and show the top 10 records with the most `Confirmed` as specified.\n",
    "\n",
    "- Expected inputs：a SQL statement.\n",
    "- Expected outputs：a (10, 2) result.\n",
    "\n",
    "```\n",
    "                  Combined_Key  Confirmed\n",
    "0  Los Angeles, California, US    2796560\n",
    "1        Maricopa, Arizona, US    1246178\n",
    "2      Miami-Dade, Florida, US    1176706\n",
    "3           Cook, Illinois, US    1111190\n",
    "4            Harris, Texas, US     992400\n",
    "5    San Diego, California, US     786060\n",
    "6          Kings, New York, US     685853\n",
    "7         Queens, New York, US     634435\n",
    "8    Riverside, California, US     613527\n",
    "9         Broward, Florida, US     598603\n",
    "```"
   ]
  },
  {
   "cell_type": "code",
   "execution_count": 9,
   "metadata": {},
   "outputs": [],
   "source": [
    "find_us_most_ten_confirmed_from_daily_report =\\\n",
    "\"\"\"\n",
    "-- BEGIN SOLUTION\n",
    "SELECT Combined_Key,\n",
    "       Confirmed\n",
    "  FROM daily_report\n",
    " WHERE Combined_Key LIKE '%, US'\n",
    " ORDER BY Confirmed DESC\n",
    " LIMIT 10;\n",
    "-- END SOLUTION\n",
    "\"\"\""
   ]
  },
  {
   "cell_type": "markdown",
   "metadata": {},
   "source": [
    "## 09. Write a SQL statement that is able to find the records of US in `lookup_table`.\n",
    "\n",
    "- Expected inputs：a SQL statement.\n",
    "- Expected outputs：a (3406, 10) result.\n",
    "\n",
    "```\n",
    "           UID                   Combined_Key iso2 iso3 Country_Region  \\\n",
    "0           16             American Samoa, US   AS  ASM             US   \n",
    "1          316                       Guam, US   GU  GUM             US   \n",
    "2          580   Northern Mariana Islands, US   MP  MNP             US   \n",
    "3          630                Puerto Rico, US   PR  PRI             US   \n",
    "4          840                             US   US  USA             US   \n",
    "...        ...                            ...  ...  ...            ...   \n",
    "3401  84090053     Unassigned, Washington, US   US  USA             US   \n",
    "3402  84090054  Unassigned, West Virginia, US   US  USA             US   \n",
    "3403  84090055      Unassigned, Wisconsin, US   US  USA             US   \n",
    "3404  84090056        Unassigned, Wyoming, US   US  USA             US   \n",
    "3405  84099999             Grand Princess, US   US  USA             US   \n",
    "\n",
    "                Province_State      Admin2      Lat     Long_   Population  \n",
    "0               American Samoa        None -14.2710 -170.1320      55641.0  \n",
    "1                         Guam        None  13.4443  144.7937     164229.0  \n",
    "2     Northern Mariana Islands        None  15.0979  145.6739      55144.0  \n",
    "3                  Puerto Rico        None  18.2208  -66.5901    3193694.0  \n",
    "4                         None        None  40.0000 -100.0000  329466283.0  \n",
    "...                        ...         ...      ...       ...          ...  \n",
    "3401                Washington  Unassigned      NaN       NaN          NaN  \n",
    "3402             West Virginia  Unassigned      NaN       NaN          NaN  \n",
    "3403                 Wisconsin  Unassigned      NaN       NaN          NaN  \n",
    "3404                   Wyoming  Unassigned      NaN       NaN          NaN  \n",
    "3405            Grand Princess        None      NaN       NaN          NaN  \n",
    "\n",
    "[3406 rows x 10 columns]\n",
    "```"
   ]
  },
  {
   "cell_type": "code",
   "execution_count": 10,
   "metadata": {},
   "outputs": [],
   "source": [
    "find_us_from_lookup_table =\\\n",
    "\"\"\"\n",
    "-- BEGIN SOLUTION\n",
    "SELECT *\n",
    "  FROM lookup_table\n",
    " WHERE Country_Region = 'US';\n",
    "-- END SOLUTION\n",
    "\"\"\""
   ]
  },
  {
   "cell_type": "markdown",
   "metadata": {},
   "source": [
    "## 10. Write a SQL statement that is able to find the records of Russia and Ukraine in `lookup_table`.\n",
    "\n",
    "- Expected inputs：a SQL statement.\n",
    "- Expected outputs：a (114, 10) result.\n",
    "\n",
    "```\n",
    "       UID                 Combined_Key iso2 iso3 Country_Region  \\\n",
    "0      643                       Russia   RU  RUS         Russia   \n",
    "1      804                      Ukraine   UA  UKR        Ukraine   \n",
    "2    64301      Adygea Republic, Russia   RU  RUS         Russia   \n",
    "3    64302           Altai Krai, Russia   RU  RUS         Russia   \n",
    "4    64303       Altai Republic, Russia   RU  RUS         Russia   \n",
    "..     ...                          ...  ...  ...            ...   \n",
    "109  80424        Volyn Oblast, Ukraine   UA  UKR        Ukraine   \n",
    "110  80425  Zakarpattia Oblast, Ukraine   UA  UKR        Ukraine   \n",
    "111  80426   Zaporizhia Oblast, Ukraine   UA  UKR        Ukraine   \n",
    "112  80427     Zhytomyr Oblast, Ukraine   UA  UKR        Ukraine   \n",
    "113  80428             Unknown, Ukraine   UA  UKR        Ukraine   \n",
    "\n",
    "         Province_State Admin2        Lat       Long_   Population  \n",
    "0                  None   None  61.524010  105.318756  145934460.0  \n",
    "1                  None   None  48.379400   31.165600   43733759.0  \n",
    "2       Adygea Republic   None  44.693901   40.152042     453376.0  \n",
    "3            Altai Krai   None  52.693224   82.693142    2350080.0  \n",
    "4        Altai Republic   None  50.711410   86.857219     218063.0  \n",
    "..                  ...    ...        ...         ...          ...  \n",
    "109        Volyn Oblast   None  50.747200   25.325400    1035330.0  \n",
    "110  Zakarpattia Oblast   None  48.620800   22.287900    1256802.0  \n",
    "111   Zaporizhia Oblast   None  47.838800   35.139600    1705836.0  \n",
    "112     Zhytomyr Oblast   None  50.254700   28.658700    1220193.0  \n",
    "113             Unknown   None        NaN         NaN          NaN  \n",
    "\n",
    "[114 rows x 10 columns]\n",
    "```"
   ]
  },
  {
   "cell_type": "code",
   "execution_count": 11,
   "metadata": {},
   "outputs": [],
   "source": [
    "find_russia_and_ukraine_from_lookup_table =\\\n",
    "\"\"\"\n",
    "-- BEGIN SOLUTION\n",
    "SELECT *\n",
    "  FROM lookup_table\n",
    " WHERE Country_Region IN ('Russia', 'Ukraine');\n",
    "-- END SOLUTION\n",
    "\"\"\""
   ]
  },
  {
   "cell_type": "markdown",
   "metadata": {
    "deletable": false,
    "editable": false
   },
   "source": [
    "## End of assignment, ignore the following cells."
   ]
  },
  {
   "cell_type": "code",
   "execution_count": 12,
   "metadata": {
    "deletable": false,
    "editable": false
   },
   "outputs": [],
   "source": [
    "import pandas as pd\n",
    "\n",
    "def function_select_all_from_daily_report(con):\n",
    "    return pd.read_sql(select_all_from_daily_report, con)\n",
    "def function_select_variables_from_time_series(con):\n",
    "    return pd.read_sql(select_variables_from_time_series, con)\n",
    "def function_find_taiwan_from_time_series(con):\n",
    "    return pd.read_sql(find_taiwan_from_time_series, con)\n",
    "def function_find_taiwan_plus_zero_from_time_series(con):\n",
    "    return pd.read_sql(find_taiwan_plus_zero_from_time_series, con)\n",
    "def function_find_distinct_last_update_from_daily_report(con):\n",
    "    return pd.read_sql(find_distinct_last_update_from_daily_report, con)\n",
    "def function_find_distinct_date_from_time_series(con):\n",
    "    return pd.read_sql(find_distinct_date_from_time_series, con)\n",
    "def function_find_us_from_daily_report(con):\n",
    "    return pd.read_sql(find_us_from_daily_report, con)\n",
    "def function_find_us_most_ten_confirmed_from_daily_report(con):\n",
    "    return pd.read_sql(find_us_most_ten_confirmed_from_daily_report, con)\n",
    "def function_find_us_from_lookup_table(con):\n",
    "    return pd.read_sql(find_us_from_lookup_table, con)\n",
    "def function_find_russia_and_ukraine_from_lookup_table(con):\n",
    "    return pd.read_sql(find_russia_and_ukraine_from_lookup_table, con)"
   ]
  }
 ],
 "metadata": {
  "celltoolbar": "Edit Metadata",
  "kernelspec": {
   "display_name": "Python 3.9",
   "language": "python",
   "name": "python39"
  },
  "language_info": {
   "codemirror_mode": {
    "name": "ipython",
    "version": 3
   },
   "file_extension": ".py",
   "mimetype": "text/x-python",
   "name": "python",
   "nbconvert_exporter": "python",
   "pygments_lexer": "ipython3",
   "version": "3.9.7"
  }
 },
 "nbformat": 4,
 "nbformat_minor": 4
}
